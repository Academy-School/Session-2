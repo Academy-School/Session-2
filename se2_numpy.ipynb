{
  "nbformat": 4,
  "nbformat_minor": 0,
  "metadata": {
    "colab": {
      "provenance": [],
      "authorship_tag": "ABX9TyNj46OnN2u+bTD2O09vWWNM",
      "include_colab_link": true
    },
    "kernelspec": {
      "name": "python3",
      "display_name": "Python 3"
    },
    "language_info": {
      "name": "python"
    }
  },
  "cells": [
    {
      "cell_type": "markdown",
      "metadata": {
        "id": "view-in-github",
        "colab_type": "text"
      },
      "source": [
        "<a href=\"https://colab.research.google.com/github/fls2134/Session-2/blob/main/se2_numpy.ipynb\" target=\"_parent\"><img src=\"https://colab.research.google.com/assets/colab-badge.svg\" alt=\"Open In Colab\"/></a>"
      ]
    },
    {
      "cell_type": "markdown",
      "source": [
        "# 라이브러리 import"
      ],
      "metadata": {
        "id": "VJ9pCgKu5xO6"
      }
    },
    {
      "cell_type": "code",
      "execution_count": 13,
      "metadata": {
        "id": "Bb8U96lB3GNX"
      },
      "outputs": [],
      "source": [
        "import numpy as np"
      ]
    },
    {
      "cell_type": "markdown",
      "source": [
        "#### ✅ NumPy 배열 생성 (기본적인 리스트 변환)"
      ],
      "metadata": {
        "id": "LHKgqyDM5T90"
      }
    },
    {
      "cell_type": "code",
      "source": [
        "arr = np.array([1, 2, 3, 4, 5])\n",
        "print(\"1D 배열:\", arr)"
      ],
      "metadata": {
        "colab": {
          "base_uri": "https://localhost:8080/"
        },
        "id": "TyNWFOPv5Mhw",
        "outputId": "415b2027-569c-418e-c37d-1d0e7ea77453"
      },
      "execution_count": 14,
      "outputs": [
        {
          "output_type": "stream",
          "name": "stdout",
          "text": [
            "1D 배열: [1 2 3 4 5]\n"
          ]
        }
      ]
    },
    {
      "cell_type": "markdown",
      "source": [
        "#### ✅ 2차원 배열 (행렬) 생성"
      ],
      "metadata": {
        "id": "6YqQ4c_e5Zog"
      }
    },
    {
      "cell_type": "code",
      "source": [
        "matrix = np.array([[1, 2, 3], [4, 5, 6]])\n",
        "print(\"2D 배열:\\n\", matrix)"
      ],
      "metadata": {
        "colab": {
          "base_uri": "https://localhost:8080/"
        },
        "id": "99wrnHKW5RBO",
        "outputId": "1706a099-3a5f-47d1-fe9e-9cbeadb1c7f0"
      },
      "execution_count": 15,
      "outputs": [
        {
          "output_type": "stream",
          "name": "stdout",
          "text": [
            "2D 배열:\n",
            " [[1 2 3]\n",
            " [4 5 6]]\n"
          ]
        }
      ]
    },
    {
      "cell_type": "markdown",
      "source": [
        "#### ✅ 배열의 기본 정보 확인\n"
      ],
      "metadata": {
        "id": "7UQBC6Z65eHi"
      }
    },
    {
      "cell_type": "code",
      "source": [
        "print(\"배열 크기:\", matrix.shape)  # (2,3) → 2행 3열\n",
        "print(\"배열 차원:\", matrix.ndim)   # 2차원 배열\n",
        "print(\"배열 데이터 타입:\", matrix.dtype)  # int64 (or int32)"
      ],
      "metadata": {
        "colab": {
          "base_uri": "https://localhost:8080/"
        },
        "id": "uKwkIMOG5dbY",
        "outputId": "a83251b4-bd5e-4dc0-ecfd-2483279ddaa6"
      },
      "execution_count": 16,
      "outputs": [
        {
          "output_type": "stream",
          "name": "stdout",
          "text": [
            "배열 크기: (2, 3)\n",
            "배열 차원: 2\n",
            "배열 데이터 타입: int64\n"
          ]
        }
      ]
    },
    {
      "cell_type": "markdown",
      "source": [
        "#### ✅ 난수 생성\n"
      ],
      "metadata": {
        "id": "1OHQVAAU5lt5"
      }
    },
    {
      "cell_type": "code",
      "source": [
        "random_arr = np.random.rand(3, 3)  # 3x3 랜덤 행렬 (0~1 사이 값)\n",
        "print(\"랜덤 배열:\\n\", random_arr)"
      ],
      "metadata": {
        "colab": {
          "base_uri": "https://localhost:8080/"
        },
        "id": "68eoTa1d5npi",
        "outputId": "2bd94f9a-76cc-4f48-b39e-e92fbb5109dc"
      },
      "execution_count": 17,
      "outputs": [
        {
          "output_type": "stream",
          "name": "stdout",
          "text": [
            "랜덤 배열:\n",
            " [[0.54825203 0.39500821 0.67890123]\n",
            " [0.14647733 0.91272817 0.03524596]\n",
            " [0.7092009  0.26674077 0.79608275]]\n"
          ]
        }
      ]
    },
    {
      "cell_type": "markdown",
      "source": [
        "#### ✅ 기본 연산 (벡터 연산)"
      ],
      "metadata": {
        "id": "ndMqa6-n5o-s"
      }
    },
    {
      "cell_type": "code",
      "source": [
        "a = np.array([10, 20, 30])\n",
        "b = np.array([1, 2, 3])\n",
        "\n",
        "print(\"덧셈:\", a + b)  # [11 22 33]\n",
        "print(\"곱셈:\", a * b)  # [10 40 90]"
      ],
      "metadata": {
        "colab": {
          "base_uri": "https://localhost:8080/"
        },
        "id": "Orm7b_2K5q9y",
        "outputId": "21c97260-205c-465b-93e0-bcca03059174"
      },
      "execution_count": 18,
      "outputs": [
        {
          "output_type": "stream",
          "name": "stdout",
          "text": [
            "덧셈: [11 22 33]\n",
            "곱셈: [10 40 90]\n"
          ]
        }
      ]
    },
    {
      "cell_type": "markdown",
      "source": [
        "#### ✅ 행렬 곱셈 (dot product)\n"
      ],
      "metadata": {
        "id": "xqqtAOdC5sbQ"
      }
    },
    {
      "cell_type": "code",
      "source": [
        "A = np.array([[1, 2], [3, 4]])\n",
        "B = np.array([[5, 6], [7, 8]])\n",
        "\n",
        "print(\"행렬 곱 (A @ B):\\n\", A @ B)  # 또는 np.dot(A, B)"
      ],
      "metadata": {
        "colab": {
          "base_uri": "https://localhost:8080/"
        },
        "id": "YMgyE2Np5tv4",
        "outputId": "b03d9493-d2f1-405b-8e31-4a144e2c064b"
      },
      "execution_count": 19,
      "outputs": [
        {
          "output_type": "stream",
          "name": "stdout",
          "text": [
            "행렬 곱 (A @ B):\n",
            " [[19 22]\n",
            " [43 50]]\n"
          ]
        }
      ]
    },
    {
      "cell_type": "markdown",
      "source": [
        "#### ✅ 통계 연산\n"
      ],
      "metadata": {
        "id": "_CtbEi155vGG"
      }
    },
    {
      "cell_type": "code",
      "source": [
        "data = np.array([10, 20, 30, 40, 50])\n",
        "print(\"평균:\", np.mean(data))  # 30.0\n",
        "print(\"표준편차:\", np.std(data))  # 14.14\n",
        "print(\"최댓값:\", np.max(data))  # 50\n",
        "print(\"최솟값:\", np.min(data))  # 10"
      ],
      "metadata": {
        "colab": {
          "base_uri": "https://localhost:8080/"
        },
        "id": "vJDtfFVX5wAV",
        "outputId": "421af923-045c-48e9-fa99-83e810ba7716"
      },
      "execution_count": null,
      "outputs": [
        {
          "output_type": "stream",
          "name": "stdout",
          "text": [
            "평균: 30.0\n",
            "표준편차: 14.142135623730951\n",
            "최댓값: 50\n",
            "최솟값: 10\n"
          ]
        }
      ]
    }
  ]
}