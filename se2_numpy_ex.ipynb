{
  "nbformat": 4,
  "nbformat_minor": 0,
  "metadata": {
    "colab": {
      "provenance": [],
      "authorship_tag": "ABX9TyOm14212ZdDFS24vcI5H+jc",
      "include_colab_link": true
    },
    "kernelspec": {
      "name": "python3",
      "display_name": "Python 3"
    },
    "language_info": {
      "name": "python"
    }
  },
  "cells": [
    {
      "cell_type": "markdown",
      "metadata": {
        "id": "view-in-github",
        "colab_type": "text"
      },
      "source": [
        "<a href=\"https://colab.research.google.com/github/fls2134/Session-2/blob/main/se2_numpy_ex.ipynb\" target=\"_parent\"><img src=\"https://colab.research.google.com/assets/colab-badge.svg\" alt=\"Open In Colab\"/></a>"
      ]
    },
    {
      "cell_type": "markdown",
      "source": [
        "# 라이브러리 import"
      ],
      "metadata": {
        "id": "VJ9pCgKu5xO6"
      }
    },
    {
      "cell_type": "code",
      "execution_count": 4,
      "metadata": {
        "id": "Bb8U96lB3GNX"
      },
      "outputs": [],
      "source": [
        "import numpy as np"
      ]
    },
    {
      "cell_type": "markdown",
      "source": [
        "## NumPy 배열 생성 (기본적인 리스트 변환)"
      ],
      "metadata": {
        "id": "LHKgqyDM5T90"
      }
    },
    {
      "cell_type": "code",
      "source": [
        "arr = np.array([1, 2, 3, 4, 5])\n",
        "print(\"1D 배열:\", arr)"
      ],
      "metadata": {
        "colab": {
          "base_uri": "https://localhost:8080/"
        },
        "id": "TyNWFOPv5Mhw",
        "outputId": "092b4e02-c4e4-45bc-af32-00d26b5f25c1"
      },
      "execution_count": 5,
      "outputs": [
        {
          "output_type": "stream",
          "name": "stdout",
          "text": [
            "1D 배열: [1 2 3 4 5]\n"
          ]
        }
      ]
    },
    {
      "cell_type": "markdown",
      "source": [
        "## 2차원 배열 (행렬) 생성"
      ],
      "metadata": {
        "id": "6YqQ4c_e5Zog"
      }
    },
    {
      "cell_type": "code",
      "source": [
        "matrix = np.array([[1, 2, 3], [4, 5, 6]])\n",
        "print(\"2D 배열:\\n\", matrix)"
      ],
      "metadata": {
        "colab": {
          "base_uri": "https://localhost:8080/"
        },
        "id": "99wrnHKW5RBO",
        "outputId": "41e80bbc-7284-486f-8ccb-0145bfbd9933"
      },
      "execution_count": 6,
      "outputs": [
        {
          "output_type": "stream",
          "name": "stdout",
          "text": [
            "2D 배열:\n",
            " [[1 2 3]\n",
            " [4 5 6]]\n"
          ]
        }
      ]
    },
    {
      "cell_type": "markdown",
      "source": [
        "## 배열의 기본 정보 확인\n"
      ],
      "metadata": {
        "id": "7UQBC6Z65eHi"
      }
    },
    {
      "cell_type": "code",
      "source": [
        "print(\"배열 크기:\", matrix.shape)  # (2,3) → 2행 3열\n",
        "print(\"배열 차원:\", matrix.ndim)   # 2차원 배열\n",
        "print(\"배열 데이터 타입:\", matrix.dtype)  # int64 (or int32)"
      ],
      "metadata": {
        "colab": {
          "base_uri": "https://localhost:8080/"
        },
        "id": "uKwkIMOG5dbY",
        "outputId": "39ce2248-3ea2-41f8-94e6-52dfd232e76d"
      },
      "execution_count": 7,
      "outputs": [
        {
          "output_type": "stream",
          "name": "stdout",
          "text": [
            "배열 크기: (2, 3)\n",
            "배열 차원: 2\n",
            "배열 데이터 타입: int64\n"
          ]
        }
      ]
    },
    {
      "cell_type": "markdown",
      "source": [
        "## 난수 생성\n"
      ],
      "metadata": {
        "id": "1OHQVAAU5lt5"
      }
    },
    {
      "cell_type": "code",
      "source": [
        "random_arr = np.random.rand(3, 3)  # 3x3 랜덤 행렬 (0~1 사이 값)\n",
        "print(\"랜덤 배열:\\n\", random_arr)"
      ],
      "metadata": {
        "colab": {
          "base_uri": "https://localhost:8080/"
        },
        "id": "68eoTa1d5npi",
        "outputId": "57722440-8cf0-4cb4-e625-ead0c6a673dd"
      },
      "execution_count": 8,
      "outputs": [
        {
          "output_type": "stream",
          "name": "stdout",
          "text": [
            "랜덤 배열:\n",
            " [[0.69964646 0.79141173 0.47607318]\n",
            " [0.17338872 0.87895512 0.39956563]\n",
            " [0.78113816 0.94223778 0.44967053]]\n"
          ]
        }
      ]
    },
    {
      "cell_type": "markdown",
      "source": [
        "## 기본 연산 (벡터 연산 가능)"
      ],
      "metadata": {
        "id": "ndMqa6-n5o-s"
      }
    },
    {
      "cell_type": "markdown",
      "source": [],
      "metadata": {
        "id": "kmlQg_zz5ZHX"
      }
    },
    {
      "cell_type": "code",
      "source": [
        "a = np.array([10, 20, 30])\n",
        "b = np.array([1, 2, 3])\n",
        "\n",
        "print(\"덧셈:\", a + b)  # [11 22 33]\n",
        "print(\"곱셈:\", a * b)  # [10 40 90]"
      ],
      "metadata": {
        "colab": {
          "base_uri": "https://localhost:8080/"
        },
        "id": "Orm7b_2K5q9y",
        "outputId": "63dd4f2f-3000-4e02-e1ca-b474e72f079c"
      },
      "execution_count": 9,
      "outputs": [
        {
          "output_type": "stream",
          "name": "stdout",
          "text": [
            "덧셈: [11 22 33]\n",
            "곱셈: [10 40 90]\n"
          ]
        }
      ]
    },
    {
      "cell_type": "markdown",
      "source": [
        "## 행렬 곱셈 (dot product)\n"
      ],
      "metadata": {
        "id": "xqqtAOdC5sbQ"
      }
    },
    {
      "cell_type": "code",
      "source": [
        "A = np.array([[1, 2], [3, 4]])\n",
        "B = np.array([[5, 6], [7, 8]])\n",
        "\n",
        "print(\"행렬 곱 (A @ B):\\n\", A @ B)  # 또는 np.dot(A, B)"
      ],
      "metadata": {
        "colab": {
          "base_uri": "https://localhost:8080/"
        },
        "id": "YMgyE2Np5tv4",
        "outputId": "dcb02558-556a-481d-c154-380092a3416f"
      },
      "execution_count": 10,
      "outputs": [
        {
          "output_type": "stream",
          "name": "stdout",
          "text": [
            "행렬 곱 (A @ B):\n",
            " [[19 22]\n",
            " [43 50]]\n"
          ]
        }
      ]
    },
    {
      "cell_type": "markdown",
      "source": [
        "## 통계 연산\n"
      ],
      "metadata": {
        "id": "_CtbEi155vGG"
      }
    },
    {
      "cell_type": "code",
      "source": [
        "data = np.array([10, 20, 30, 40, 50])\n",
        "print(\"평균:\", np.mean(data))  # 30.0\n",
        "print(\"표준편차:\", np.std(data))  # 14.14\n",
        "print(\"최댓값:\", np.max(data))  # 50\n",
        "print(\"최솟값:\", np.min(data))  # 10"
      ],
      "metadata": {
        "colab": {
          "base_uri": "https://localhost:8080/"
        },
        "id": "vJDtfFVX5wAV",
        "outputId": "421af923-045c-48e9-fa99-83e810ba7716"
      },
      "execution_count": 11,
      "outputs": [
        {
          "output_type": "stream",
          "name": "stdout",
          "text": [
            "평균: 30.0\n",
            "표준편차: 14.142135623730951\n",
            "최댓값: 50\n",
            "최솟값: 10\n"
          ]
        }
      ]
    },
    {
      "cell_type": "code",
      "source": [],
      "metadata": {
        "id": "dArex2ga51hm"
      },
      "execution_count": 11,
      "outputs": []
    }
  ]
}